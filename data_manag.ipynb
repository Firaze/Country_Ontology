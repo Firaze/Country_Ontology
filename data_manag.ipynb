{
 "cells": [
  {
   "cell_type": "code",
   "execution_count": 2,
   "metadata": {},
   "outputs": [],
   "source": [
    "from SPARQLWrapper import SPARQLWrapper, JSON\n",
    "from rdflib import URIRef, RDF, RDFS, Graph\n",
    "import pandas as pd\n",
    "import numpy as np\n",
    "sparql = SPARQLWrapper(\"https://query.wikidata.org/sparql\")\n",
    "var=[\"P36\",\"P38\",\"P37\",\"P122\",\"P31\",\"P463\"]\n",
    "properties=[\"hasCapital\",\"hasCurrency\",\"officialLanguage\",\"politicalSystem\",\"island nation\", \"memberOf\"]\n",
    "results=[]\n",
    "for x in var:\n",
    "    sparql.setQuery(\"\"\"\n",
    "        SELECT ?countryLabel ?article_country  ?article_division ?article_var ?article_alt ?divisionLabel ?varLabel\n",
    "    WHERE\n",
    "    {\n",
    "      ?country wdt:P31 wd:Q3624078 .\n",
    "      ?country wdt:P30 wd:Q46 .\n",
    "       OPTIONAL { ?country wdt:P31 wd:Q417175 . \n",
    "                ?country wdt:P150 ?division .\n",
    "                ?division wdt:P30 wd:Q46.\n",
    "                ?division wdt:\"\"\"+x+\"\"\" ?var .\n",
    "                ?article_alt  schema:about ?var .\n",
    "                ?article_alt  schema:isPartOf <https://en.wikipedia.org/>.\n",
    "                ?article_division schema:about ?division .\n",
    "                ?article_division schema:isPartOf <https://en.wikipedia.org/>.\n",
    "                \n",
    "               }\n",
    "      ?article_country schema:about ?country .\n",
    "      ?article_country schema:isPartOf <https://en.wikipedia.org/>.\n",
    "      OPTIONAL{?country wdt:\"\"\"+x+\"\"\" ?var .\n",
    "      ?article_var schema:about ?var .\n",
    "      ?article_var schema:isPartOf <https://en.wikipedia.org/>.}\n",
    "     \n",
    "\n",
    "      SERVICE wikibase:label { bd:serviceParam wikibase:language \"en\" }\n",
    "    }\n",
    "    \"\"\")\n",
    "    sparql.setReturnFormat(JSON)\n",
    "    results.append(sparql.query().convert())"
   ]
  },
  {
   "cell_type": "code",
   "execution_count": 3,
   "metadata": {
    "tags": []
   },
   "outputs": [],
   "source": [
    "results_df=[]\n",
    "for i,e in enumerate(results):\n",
    "    tmp=pd.json_normalize(results[i]['results']['bindings'])\n",
    "    for n in range(tmp.shape[0]):\n",
    "        if(pd.isna(tmp.loc[n][\"article_division.value\"])==False):\n",
    "            tmp.loc[n][\"article_country.value\"]=tmp.loc[n][\"article_division.value\"]\n",
    "            tmp.loc[n][\"article_var.value\"]=tmp.loc[n][\"article_alt.value\"]\n",
    "            tmp.loc[n][\"countryLabel.value\"]=tmp.loc[n][\"divisionLabel.value\"]\n",
    "    results_df.append(tmp)\n",
    "for e,i in enumerate(results_df[3][\"varLabel.value\"]):\n",
    "    if (pd.isna(i)!=True):\n",
    "        results_df[3][\"varLabel.value\"].loc[e]=results_df[3][\"varLabel.value\"].loc[e]+\" \"\n",
    "results_df[3]=results_df[3].groupby(results_df[3][\"countryLabel.value\"]).aggregate({\"article_country.value\":\"first\",\"article_var.value\":\"first\",\"varLabel.value\": \"sum\"})\n",
    "results_df[3].drop(results_df[3].loc[results_df[3]['varLabel.value']==0].index, inplace=True)\n",
    "results_df[3]=results_df[3].reset_index()"
   ]
  },
  {
   "cell_type": "code",
   "execution_count": 7,
   "metadata": {},
   "outputs": [],
   "source": [
    "borders_results=[]\n",
    "sparql.setQuery(\"\"\"  SELECT DISTINCT ?countryLabel ?article_country ?article_country2 \n",
    "    WHERE\n",
    "    {\n",
    "      ?border wdt:P31 wd:Q15104814 .\n",
    "      ?border wdt:P17 ?country .\n",
    "      ?border wdt:P17 ?country2 .\n",
    "      ?country wdt:P30 wd:Q46 .\n",
    "      ?article_country schema:about ?country .\n",
    "      ?article_country schema:isPartOf <https://en.wikipedia.org/>.\n",
    "      ?article_country2 schema:about ?country2 .\n",
    "      ?article_country2 schema:isPartOf <https://en.wikipedia.org/>.\n",
    "      SERVICE wikibase:label { bd:serviceParam wikibase:language \"en\" }\n",
    "    }\n",
    "    \n",
    "\"\"\")\n",
    "sparql.setReturnFormat(JSON)\n",
    "results=sparql.query().convert()\n",
    "borders_results_df=pd.json_normalize(results['results']['bindings'])"
   ]
  },
  {
   "cell_type": "code",
   "execution_count": 8,
   "metadata": {},
   "outputs": [],
   "source": [
    "sparql.setQuery(\"\"\"  SELECT  ?article_country  ?article_division ?article_var ?article_alt ?instLabel\n",
    "    WHERE\n",
    "    {\n",
    "      ?country wdt:P31 wd:Q3624078 .\n",
    "      ?country wdt:P30 wd:Q46 .\n",
    "       OPTIONAL { ?country wdt:P31 wd:Q417175 . \n",
    "                ?country wdt:P150 ?division .\n",
    "                ?division wdt:P30 wd:Q46.\n",
    "                ?division wdt:P206 ?var .\n",
    "                ?var wdt:P31 ?inst .\n",
    "                ?article_alt schema:about ?var .\n",
    "                ?article_alt schema:isPartOf <https://en.wikipedia.org/>.\n",
    "                ?article_division schema:about ?division .\n",
    "                ?article_division schema:isPartOf <https://en.wikipedia.org/>.\n",
    "                \n",
    "               }\n",
    "      ?article_country schema:about ?country .\n",
    "      ?article_country schema:isPartOf <https://en.wikipedia.org/>.\n",
    "      OPTIONAL{?country wdt:P206 ?var .\n",
    "      ?article_var schema:about ?var .\n",
    "      ?var wdt:P31 ?inst .\n",
    "      ?article_var schema:isPartOf <https://en.wikipedia.org/>.}\n",
    "     \n",
    "\n",
    "      SERVICE wikibase:label { bd:serviceParam wikibase:language \"en\" }\n",
    "    }\n",
    "\"\"\")\n",
    "sparql.setReturnFormat(JSON)\n",
    "water_results=sparql.query().convert()\n",
    "water_results_df=pd.json_normalize(water_results['results']['bindings'])"
   ]
  },
  {
   "cell_type": "code",
   "execution_count": 9,
   "metadata": {},
   "outputs": [],
   "source": [
    "for n in range(water_results_df.shape[0]):\n",
    "    if(pd.isna(water_results_df.loc[n][\"article_division.value\"])==False):\n",
    "        water_results_df.loc[n][\"article_country.value\"]=water_results_df.loc[n][\"article_division.value\"]\n",
    "        water_results_df.loc[n][\"article_var.value\"]=water_results_df.loc[n][\"article_alt.value\"]"
   ]
  },
  {
   "cell_type": "code",
   "execution_count": 22,
   "metadata": {},
   "outputs": [],
   "source": [
    "from rdflib import URIRef, RDF, RDFS\n",
    "g = Graph()\n",
    "g.parse(\"progetto.owl\", format=\"xml\")\n",
    "uripro=\"http://www.semanticweb.org/ress/ontologies/2021/4/country#\"\n",
    "for i,prop in enumerate(properties):\n",
    "    for e in range(results_df[i].shape[0]):\n",
    "        to_insert=results_df[i][[\"article_country.value\",\"article_var.value\",\"varLabel.value\",\"countryLabel.value\"]].loc[e]\n",
    "        if (i==0):\n",
    "            g.add((URIRef(to_insert[0]),RDF.type,URIRef(uripro+\"European_Nation\")))\n",
    "            g.add((URIRef(uripro+\"European_Nation\"),RDFS.subClassOf,URIRef(uripro+\"Nation\")))\n",
    "        if (prop==\"politicalSystem\"):\n",
    "            if \"monarchy\" in to_insert[2]:\n",
    "                g.add((URIRef(to_insert[1]),RDF.type,URIRef(uripro+\"Monarchy\")))\n",
    "                g.add((URIRef(uripro+\"Monarchy\"),RDFS.subClassOf,URIRef(uripro+\"Political_system\")))\n",
    "            elif \"republic\" in to_insert[2]:\n",
    "                g.add((URIRef(to_insert[1]),RDF.type,URIRef(uripro+\"Republic\")))\n",
    "                g.add((URIRef(uripro+\"Republic\"),RDFS.subClassOf,URIRef(uripro+\"Political_system\")))\n",
    "            else:\n",
    "                g.add((URIRef(to_insert[1]),RDF.type,URIRef(uripro+\"Other\")))\n",
    "                g.add((URIRef(uripro+\"Other\"),RDFS.subClassOf,URIRef(uripro+\"Political_system\")))\n",
    "        if (prop==\"island nation\"):\n",
    "            if (to_insert[2]==\"island nation\") or (borders_results_df.loc[borders_results_df[\"countryLabel.value\"]==to_insert[3]].shape[0]==0):\n",
    "                g.add((URIRef(to_insert[0]),RDF.type,URIRef(uripro+\"Island\")))\n",
    "                g.add((URIRef(uripro+\"Island\"),RDFS.subClassOf,URIRef(uripro+\"Nation\")))\n",
    "            continue\n",
    "        if (pd.isna(to_insert[2]))==False:\n",
    "            g.add((URIRef(to_insert[0]),URIRef(uripro+prop),URIRef(to_insert[1])))\n",
    "g.serialize('country.owl',format='xml')"
   ]
  },
  {
   "cell_type": "code",
   "execution_count": 23,
   "metadata": {
    "tags": []
   },
   "outputs": [],
   "source": [
    "for e in range(borders_results_df.shape[0]):\n",
    "    to_insert=borders_results_df[[\"article_country.value\",\"article_country2.value\"]].loc[e]\n",
    "    if (to_insert[0]!=to_insert[1]):\n",
    "        g.add((URIRef(to_insert[0]),URIRef(uripro+\"confineWith\"),URIRef(to_insert[1])))\n",
    "g.serialize('country.owl',format='xml')"
   ]
  },
  {
   "cell_type": "code",
   "execution_count": 24,
   "metadata": {
    "tags": []
   },
   "outputs": [],
   "source": [
    "for e in range(water_results_df.shape[0]):\n",
    "    to_insert=water_results_df[[\"article_country.value\",\"article_var.value\",\"instLabel.value\"]].loc[e]\n",
    "    if(pd.isna(to_insert[\"article_var.value\"])):\n",
    "        continue\n",
    "    if (\"sea\" in to_insert[2]):\n",
    "        g.add((URIRef(to_insert[0]),URIRef(uripro+\"marineBorderWith\"),URIRef(to_insert[1])))\n",
    "    elif (\"ocean\" in to_insert[2]):\n",
    "        g.add((URIRef(to_insert[0]),URIRef(uripro+\"marineBorderWith\"),URIRef(to_insert[1])))\n",
    "    elif(\"river\" in to_insert[2]):\n",
    "        g.add((URIRef(to_insert[0]),URIRef(uripro+\"hasRiver\"),URIRef(to_insert[1])))\n",
    "    else:\n",
    "        g.add((URIRef(to_insert[0]),URIRef(uripro+\"hasLake\"),URIRef(to_insert[1])))\n",
    "g.serialize('country.owl',format='xml')"
   ]
  },
  {
   "cell_type": "code",
   "execution_count": null,
   "metadata": {},
   "outputs": [],
   "source": []
  }
 ],
 "metadata": {
  "kernelspec": {
   "display_name": "Python 3",
   "language": "python",
   "name": "python3"
  },
  "language_info": {
   "codemirror_mode": {
    "name": "ipython",
    "version": 3
   },
   "file_extension": ".py",
   "mimetype": "text/x-python",
   "name": "python",
   "nbconvert_exporter": "python",
   "pygments_lexer": "ipython3",
   "version": "3.7.6"
  }
 },
 "nbformat": 4,
 "nbformat_minor": 4
}
